{
 "cells": [
  {
   "cell_type": "code",
   "execution_count": 1,
   "id": "confirmed-guard",
   "metadata": {},
   "outputs": [
    {
     "name": "stdout",
     "output_type": "stream",
     "text": [
      "Collecting pikepdf\n",
      "  Downloading pikepdf-2.12.2-cp36-cp36m-manylinux2010_x86_64.whl (1.9 MB)\n",
      "\u001b[K     |████████████████████████████████| 1.9 MB 4.0 MB/s eta 0:00:01\n",
      "\u001b[?25hRequirement already satisfied: Pillow>=6 in /srv/conda/envs/notebook/lib/python3.6/site-packages (from pikepdf) (8.2.0)\n",
      "Collecting lxml>=4.0\n",
      "  Downloading lxml-4.6.3-cp36-cp36m-manylinux2014_x86_64.whl (6.3 MB)\n",
      "\u001b[K     |████████████████████████████████| 6.3 MB 21.6 MB/s eta 0:00:01\n",
      "\u001b[?25hInstalling collected packages: lxml, pikepdf\n",
      "Successfully installed lxml-4.6.3 pikepdf-2.12.2\n",
      "Note: you may need to restart the kernel to use updated packages.\n"
     ]
    }
   ],
   "source": [
    "pip install pikepdf"
   ]
  },
  {
   "cell_type": "code",
   "execution_count": 2,
   "id": "reflected-essex",
   "metadata": {},
   "outputs": [
    {
     "name": "stdout",
     "output_type": "stream",
     "text": [
      "Collecting tqdm\n",
      "  Downloading tqdm-4.61.1-py2.py3-none-any.whl (75 kB)\n",
      "\u001b[K     |████████████████████████████████| 75 kB 2.8 MB/s eta 0:00:011\n",
      "\u001b[?25hInstalling collected packages: tqdm\n",
      "Successfully installed tqdm-4.61.1\n",
      "Note: you may need to restart the kernel to use updated packages.\n"
     ]
    }
   ],
   "source": [
    "pip install tqdm"
   ]
  },
  {
   "cell_type": "code",
   "execution_count": 4,
   "id": "superb-halloween",
   "metadata": {},
   "outputs": [
    {
     "name": "stdout",
     "output_type": "stream",
     "text": [
      "Collecting wordlist\n",
      "  Downloading wordlist-1.0.1.tar.gz (3.4 kB)\n",
      "Building wheels for collected packages: wordlist\n",
      "  Building wheel for wordlist (setup.py) ... \u001b[?25ldone\n",
      "\u001b[?25h  Created wheel for wordlist: filename=wordlist-1.0.1-py3-none-any.whl size=4338 sha256=20bcf832d14852c07f631895fa2d4f1c4322e820f762634d943993442d90fdf0\n",
      "  Stored in directory: /home/jovyan/.cache/pip/wheels/24/ff/11/50a5abb47d9102f8687f396c0117b388b104068d980d2e5af7\n",
      "Successfully built wordlist\n",
      "Installing collected packages: wordlist\n",
      "Successfully installed wordlist-1.0.1\n",
      "Note: you may need to restart the kernel to use updated packages.\n"
     ]
    }
   ],
   "source": [
    "pip install wordlist"
   ]
  },
  {
   "cell_type": "code",
   "execution_count": 8,
   "id": "harmful-recommendation",
   "metadata": {},
   "outputs": [
    {
     "name": "stderr",
     "output_type": "stream",
     "text": [
      "Decrypting PDF:  12%|█▏        | 936/7779 [00:03<00:28, 241.42it/s]"
     ]
    },
    {
     "name": "stdout",
     "output_type": "stream",
     "text": [
      "\n",
      "[+] Password Found:  ccbatch1@123\n"
     ]
    },
    {
     "name": "stderr",
     "output_type": "stream",
     "text": [
      "\n"
     ]
    }
   ],
   "source": [
    "import pikepdf\n",
    "from tqdm import tqdm\n",
    "\n",
    "passwords = [line.strip() for line in open(\"wordlist.txt\")]\n",
    "\n",
    "for password in tqdm(passwords, \"Decrypting PDF\"):\n",
    "    try:\n",
    "        with pikepdf.open(\"Cloud Computing BATCH I 2021.pdf\", password = password) as pdf:\n",
    "            print(\"\\n[+] Password Found: \", password)\n",
    "            break\n",
    "    except pikepdf._qpdf.PasswordError as e:\n",
    "        # wrong password, just coutinue in the loop\n",
    "        continue"
   ]
  },
  {
   "cell_type": "code",
   "execution_count": null,
   "id": "arbitrary-heritage",
   "metadata": {},
   "outputs": [],
   "source": []
  }
 ],
 "metadata": {
  "kernelspec": {
   "display_name": "Python 3",
   "language": "python",
   "name": "python3"
  },
  "language_info": {
   "codemirror_mode": {
    "name": "ipython",
    "version": 3
   },
   "file_extension": ".py",
   "mimetype": "text/x-python",
   "name": "python",
   "nbconvert_exporter": "python",
   "pygments_lexer": "ipython3",
   "version": "3.6.13"
  }
 },
 "nbformat": 4,
 "nbformat_minor": 5
}
